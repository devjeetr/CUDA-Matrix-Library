{
 "metadata": {
  "name": "",
  "signature": "sha256:2f2ccfe54f1dbde9f7fb85b7169c8ac9fbb5236779532b3e16ce562e03785e7e"
 },
 "nbformat": 3,
 "nbformat_minor": 0,
 "worksheets": [
  {
   "cells": [
    {
     "cell_type": "markdown",
     "metadata": {},
     "source": [
      "Global Variables"
     ]
    },
    {
     "cell_type": "code",
     "collapsed": false,
     "input": [
      "cppDependencyTable = {}\n",
      "cudaDependencyTable = {}\n",
      "\n",
      "sourceDir = \"\"\n",
      "objectDir = \"build/object\"\n",
      "buildOutput = \"build/bin\"\n",
      "\n",
      "nvcc = \"nvcc\"\n",
      "cudaDir = \"/usr/local/cuda-7.5/bin\"\n",
      "cudaCFlags = \"-c --std=c++11\"\n",
      "\n",
      "gpp = \"g++-5\"\n",
      "gppDir = \" \"\n",
      "gppCFlags = \"-std=c++11 -c -w\"\n",
      "gppBFlags = \"-std=c++11 -w\"\n",
      "\n",
      "\n",
      "PYTHON_VERSION = \"3.4m\"\n",
      "PYTHON_INCLUDE = \"/usr/include/python\"  + PYTHON_VERSION + \"/\"\n",
      " \n",
      "# location of the Boost Python include files and library\n",
      " \n",
      "BOOST_INC = \"/usr/include/boost/\"\n",
      "BOOST_LIB = \"/usr/lib\"\n",
      " \n",
      "cudaLibName = \"cuda_lib\"\n",
      "\n",
      "appName = \"CUDA_app\"\n",
      "\n",
      "cudaFiles = []\n",
      "cppFiles  = []\n",
      "\n",
      "primaryTarget = buildOutput + \"/\" + appName"
     ],
     "language": "python",
     "metadata": {},
     "outputs": [],
     "prompt_number": 29
    },
    {
     "cell_type": "markdown",
     "metadata": {},
     "source": [
      "Directory Traversal"
     ]
    },
    {
     "cell_type": "code",
     "collapsed": false,
     "input": [
      "import os\n",
      "import re\n",
      "\n",
      "for root, dirs, files in os.walk(\".\"):\n",
      "    path = root.split('/')\n",
      "    root = root[1:]\n",
      "    for file in files:\n",
      "        cudaM = re.search(\".*\" + sourceDir + \".*.cu$\", root + \"/\" + file)\n",
      "    #         print(dirs)\n",
      "        if(cudaM is not None):\n",
      "            cudaFiles.append(root + \"/\" + file)\n",
      "        \n",
      "        cppM = re.search(\".*\" + sourceDir + \".*.cpp$\", root + \"/\" + file)\n",
      "        if(cppM is not None):\n",
      "            cppFiles.append(root + \"/\" + file)\n",
      "        \n",
      "#    print (root)\n"
     ],
     "language": "python",
     "metadata": {},
     "outputs": [],
     "prompt_number": 30
    },
    {
     "cell_type": "code",
     "collapsed": false,
     "input": [
      "def generateDependencies(files, extension):\n",
      "    dpList = {}\n",
      "    for file in files:\n",
      "        reMatches = re.match(\".*\\/(.*\\.\" + extension + \")$\", file)\n",
      "        \n",
      "        \n",
      "        if reMatches is not None:\n",
      "            currentTarget = re.sub(\".*\\/\",\"\" , reMatches.group(0))\n",
      "            currentTarget = re.sub(\"\\.\" + extension, \".o\", currentTarget)\n",
      "            currentTarget = objectDir + \"/\" + currentTarget\n",
      "            #print(\"adding target \" + currentTarget)\n",
      "            \n",
      "            dpList[currentTarget] = []\n",
      "            dpList[currentTarget].append(reMatches.group(0)[1:])\n",
      "        \n",
      "        \n",
      "            currentFile = open(\".\" + reMatches.group(0))  #full path\n",
      "            \n",
      "            \n",
      "            for line in currentFile:\n",
      "                headerMatch = re.match(\"#include\\s+\\\"(.*(?:h|cu|cpp))\", line)\n",
      "                #get lines that start with include files\"\n",
      "                if headerMatch is not None:\n",
      "                    includeTxt = headerMatch.group(1)\n",
      "\n",
      "                    fileName = re.sub(\".*.*\\/\",\"\" , includeTxt)\n",
      "                    objectFileName = objectDir + \"/\" + re.sub(\"\\.(?:cu|cpp|h)\",\".o\" , fileName)\n",
      "                    \n",
      "                    dpList[currentTarget].append(objectFileName)\n",
      "                    \n",
      "    return dpList\n",
      "\n"
     ],
     "language": "python",
     "metadata": {},
     "outputs": [],
     "prompt_number": 31
    },
    {
     "cell_type": "code",
     "collapsed": false,
     "input": [
      "def writeRules(recipe, dependencyList, shared):\n",
      "    for target in dependencyList.keys():\n",
      "        dependencies = \" \".join(dependencyList[target])\n",
      "        #print(dependencies)\n",
      "        #print(dependencyList[target][0])\n",
      "        print(target + \": \" + dependencies)\n",
      "        if shared is True:\n",
      "#     build/object/gpuMemoryManager.so: cuda/gpuMemoryManager.cu\n",
      "#   /usr/local/cuda-7.5/bin/nvcc --ptxas-options=-v --compiler-options '-fPIC' -o cudalib.so --shared cuda/gpuMemoryManager.cu\n",
      "            print(\"\\t\" + recipe + \" --ptxas-options=-v --compiler-options '-fPIC' -o \" \n",
      "                  +  objectDir + \"/\" + target + \" --shared \" + \" \".join(dependencyList[target]) + \"\\n\")\n",
      "        else:\n",
      "            \n",
      "            print(\"\\t\" + recipe + \" \" + dependencyList[target][0] + \" -o \" + target + \"\\n\")\n",
      "                "
     ],
     "language": "python",
     "metadata": {},
     "outputs": [],
     "prompt_number": 32
    },
    {
     "cell_type": "code",
     "collapsed": false,
     "input": [
      "def getObjFiles(listOfdpLists, objDir):\n",
      "    objFiles = []\n",
      "    for dpList in listOfdpLists:\n",
      "        for key in dpList:\n",
      "            rem = re.search(\"/.*\\.o.*\", key)\n",
      "            if rem is not None:\n",
      "                objList.append(key)\n",
      "    return objList"
     ],
     "language": "python",
     "metadata": {},
     "outputs": [],
     "prompt_number": 33
    },
    {
     "cell_type": "markdown",
     "metadata": {},
     "source": [
      "Now lets start writing the make file"
     ]
    },
    {
     "cell_type": "code",
     "collapsed": false,
     "input": [
      "#  first we generate the dependency lists\n",
      "cppDependencyList = generateDependencies(cppFiles, \"cpp\")\n",
      "cudaDependencyList = generateDependencies(cudaFiles, \"cu\")\n",
      "\n",
      "#first write the all rule\n",
      "print(\"all:\" + primaryTarget + \"\\n\\n\")\n",
      "\n",
      "\n",
      "#we now write these dependency rules for all intermdiary obj files\n",
      "writeRules(cudaDir + \"/nvcc \" + \n",
      "           cudaCFlags,\n",
      "           cudaDependencyList, False)\n",
      "writeRules(gppDir + gpp + \" \" +\n",
      "           gppCFlags,\n",
      "           cppDependencyList, False)\n",
      "\n",
      "cudaSODependencyList = {}\n",
      "cudaSODependencyList[cudaLibName] = list(cudaDependencyList.keys())\n",
      "\n",
      "writeRules(cudaDir + \"/nvcc \",\n",
      "           cudaSODependencyList, True)\n",
      "\n",
      "#now lets\n",
      "targetDPList = {}\n",
      "\n",
      "\n",
      "objList = []\n",
      "\n",
      "\n",
      "\n",
      "targetDPList[primaryTarget] = getObjFiles([cppDependencyList, cudaDependencyList], objectDir)\n",
      "\n",
      "print ( primaryTarget + \":\" + \" \".join(targetDPList[primaryTarget]))\n",
      "print (\"\\t\" + cudaDir + \"/nvcc\" + \" \" + gppBFlags + \" \" + \" \".join(targetDPList[primaryTarget]) + \" -o \" + primaryTarget)\n",
      "       "
     ],
     "language": "python",
     "metadata": {},
     "outputs": [
      {
       "output_type": "stream",
       "stream": "stdout",
       "text": [
        "all:build/bin/CUDA_app\n",
        "\n",
        "\n",
        "build/object/copy.o: cuda/copy.cu\n",
        "\t/usr/local/cuda-7.5/bin/nvcc -c --std=c++11 cuda/copy.cu -o build/object/copy.o\n",
        "\n",
        "build/object/gpuMemoryManager.o: cuda/gpuMemoryManager.cu\n",
        "\t/usr/local/cuda-7.5/bin/nvcc -c --std=c++11 cuda/gpuMemoryManager.cu -o build/object/gpuMemoryManager.o\n",
        "\n",
        "build/object/main.o: main.cpp build/object/gpuMemoryManager.o\n",
        "\t g++-5 -std=c++11 -c -w main.cpp -o build/object/main.o\n",
        "\n",
        "cuda_lib: build/object/copy.o build/object/gpuMemoryManager.o\n",
        "\t/usr/local/cuda-7.5/bin/nvcc  --ptxas-options=-v --compiler-options '-fPIC' -o cuda_lib --shared build/object/copy.o build/object/gpuMemoryManager.o\n",
        "\n",
        "build/bin/CUDA_app:build/object/main.o build/object/copy.o build/object/gpuMemoryManager.o\n",
        "\t/usr/local/cuda-7.5/bin/nvcc -std=c++11 -w build/object/main.o build/object/copy.o build/object/gpuMemoryManager.o -o build/bin/CUDA_app\n"
       ]
      }
     ],
     "prompt_number": 34
    },
    {
     "cell_type": "code",
     "collapsed": false,
     "input": [],
     "language": "python",
     "metadata": {},
     "outputs": [],
     "prompt_number": 34
    },
    {
     "cell_type": "code",
     "collapsed": false,
     "input": [],
     "language": "python",
     "metadata": {},
     "outputs": [],
     "prompt_number": 34
    },
    {
     "cell_type": "code",
     "collapsed": false,
     "input": [
      "\n",
      "print(match)"
     ],
     "language": "python",
     "metadata": {},
     "outputs": [
      {
       "ename": "NameError",
       "evalue": "name 'match' is not defined",
       "output_type": "pyerr",
       "traceback": [
        "\u001b[0;31m---------------------------------------------------------------------------\u001b[0m\n\u001b[0;31mNameError\u001b[0m                                 Traceback (most recent call last)",
        "\u001b[0;32m<ipython-input-35-744822d35bad>\u001b[0m in \u001b[0;36m<module>\u001b[0;34m()\u001b[0m\n\u001b[1;32m      1\u001b[0m \u001b[0;34m\u001b[0m\u001b[0m\n\u001b[0;32m----> 2\u001b[0;31m \u001b[0mprint\u001b[0m\u001b[0;34m(\u001b[0m\u001b[0mmatch\u001b[0m\u001b[0;34m)\u001b[0m\u001b[0;34m\u001b[0m\u001b[0m\n\u001b[0m",
        "\u001b[0;31mNameError\u001b[0m: name 'match' is not defined"
       ]
      }
     ],
     "prompt_number": 35
    },
    {
     "cell_type": "code",
     "collapsed": false,
     "input": [],
     "language": "python",
     "metadata": {},
     "outputs": []
    },
    {
     "cell_type": "code",
     "collapsed": false,
     "input": [],
     "language": "python",
     "metadata": {},
     "outputs": []
    }
   ],
   "metadata": {}
  }
 ]
}